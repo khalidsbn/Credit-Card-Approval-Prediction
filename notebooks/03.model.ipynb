{
 "cells": [
  {
   "cell_type": "code",
   "execution_count": 18,
   "metadata": {
    "executionInfo": {
     "elapsed": 19,
     "status": "ok",
     "timestamp": 1696760069396,
     "user": {
      "displayName": "Khalid Sabban",
      "userId": "16241140934454102127"
     },
     "user_tz": -60
    },
    "id": "yiV85JkYXphC"
   },
   "outputs": [],
   "source": [
    "import pandas as pd\n",
    "import matplotlib.pyplot as plt\n",
    "from tabulate import tabulate\n",
    "\n",
    "from sklearn.model_selection import train_test_split, RandomizedSearchCV\n",
    "\n",
    "from sklearn.ensemble import RandomForestClassifier\n",
    "from sklearn.metrics import roc_auc_score\n",
    "from xgboost import XGBClassifier\n",
    "from lightgbm import LGBMClassifier\n",
    "\n",
    "import warnings\n",
    "warnings.filterwarnings('ignore')"
   ]
  },
  {
   "cell_type": "markdown",
   "metadata": {
    "id": "iSfPvoh_GQ_r"
   },
   "source": [
    "### Main dataset"
   ]
  },
  {
   "cell_type": "markdown",
   "metadata": {
    "id": "icWSg58SkDK6"
   },
   "source": [
    "* Prepare data"
   ]
  },
  {
   "cell_type": "code",
   "execution_count": 8,
   "metadata": {
    "executionInfo": {
     "elapsed": 1189,
     "status": "ok",
     "timestamp": 1696761732744,
     "user": {
      "displayName": "Khalid Sabban",
      "userId": "16241140934454102127"
     },
     "user_tz": -60
    },
    "id": "AAHsvRYxvuQi"
   },
   "outputs": [],
   "source": [
    "app_train_poly = pd.read_csv('../data/cleanedData/cleaned_df.csv')\n",
    "\n",
    "X = app_train_poly.drop(['SK_ID_CURR', 'TARGET'], axis=1)\n",
    "y = app_train_poly['TARGET']\n",
    "\n",
    "X_train, X_test, y_train, y_test = train_test_split(X, y, test_size = 0.2, stratify = y, random_state = 42)"
   ]
  },
  {
   "cell_type": "markdown",
   "metadata": {
    "id": "vlfGxxqZkFHe"
   },
   "source": [
    "* Random forest algorithm"
   ]
  },
  {
   "cell_type": "code",
   "execution_count": 9,
   "metadata": {
    "colab": {
     "base_uri": "https://localhost:8080/"
    },
    "executionInfo": {
     "elapsed": 132843,
     "status": "ok",
     "timestamp": 1696760974898,
     "user": {
      "displayName": "Khalid Sabban",
      "userId": "16241140934454102127"
     },
     "user_tz": -60
    },
    "id": "RAPI38r-GNuO",
    "outputId": "5547749b-e4c7-4eb6-8979-a4adc4b5d0d0"
   },
   "outputs": [
    {
     "name": "stdout",
     "output_type": "stream",
     "text": [
      "Roc score for train: 100.0%\n",
      "Roc score for test: 72.28999999999999%\n"
     ]
    }
   ],
   "source": [
    "forest = RandomForestClassifier(class_weight='balanced', random_state=42)\n",
    "forest.fit(X_train, y_train)\n",
    "y_pred_rf = forest.predict(X_test)\n",
    "\n",
    "y_proba_train_rf = forest.predict_proba(X_train)\n",
    "y_proba_test_rf = forest.predict_proba(X_test)\n",
    "\n",
    "print(f\"Roc score for train: {round(roc_auc_score(y_train, y_proba_train_rf[:,1]),4)*100}%\")\n",
    "print(f\"Roc score for test: {round(roc_auc_score(y_test, y_proba_test_rf[:,1]),4)*100}%\")\n",
    "#pd.Series(forest.feature_importances_, index=X_train.columns)[:20].sort_values().plot(kind='barh');"
   ]
  },
  {
   "cell_type": "markdown",
   "metadata": {
    "id": "o-Dj2Ls-kH-a"
   },
   "source": [
    "* XGBoost algorithm"
   ]
  },
  {
   "cell_type": "code",
   "execution_count": 10,
   "metadata": {
    "colab": {
     "base_uri": "https://localhost:8080/"
    },
    "executionInfo": {
     "elapsed": 4824,
     "status": "ok",
     "timestamp": 1696760979705,
     "user": {
      "displayName": "Khalid Sabban",
      "userId": "16241140934454102127"
     },
     "user_tz": -60
    },
    "id": "86G9vsdsGaJU",
    "outputId": "7dc61d4d-3754-407e-eda6-7afeafcbea94"
   },
   "outputs": [
    {
     "name": "stdout",
     "output_type": "stream",
     "text": [
      "Roc score for train: 73.18%\n",
      "Roc score for test: 72.47%\n"
     ]
    }
   ],
   "source": [
    "xgb = XGBClassifier(n_estimators=2, random_state=42)\n",
    "xgb.fit(X_train, y_train)\n",
    "y_pred_xgb = xgb.predict(X_test)\n",
    "\n",
    "y_proba_train_xgb = xgb.predict_proba(X_train)\n",
    "y_proba_test_xgb = xgb.predict_proba(X_test)\n",
    "\n",
    "print(f\"Roc score for train: {round(roc_auc_score(y_train, y_proba_train_xgb[:,1]),4)*100}%\")\n",
    "print(f\"Roc score for test: {round(roc_auc_score(y_test, y_proba_test_xgb[:,1]),4)*100}%\")\n",
    "#pd.Series(xgb.feature_importances_, index=X_train.columns)[:20].sort_values().plot(kind='barh');"
   ]
  },
  {
   "cell_type": "markdown",
   "metadata": {
    "id": "Gbpfr8bHkXe2"
   },
   "source": [
    "* XGBoost optimization"
   ]
  },
  {
   "cell_type": "code",
   "execution_count": 11,
   "metadata": {
    "colab": {
     "base_uri": "https://localhost:8080/"
    },
    "executionInfo": {
     "elapsed": 20184,
     "status": "ok",
     "timestamp": 1696761755965,
     "user": {
      "displayName": "Khalid Sabban",
      "userId": "16241140934454102127"
     },
     "user_tz": -60
    },
    "id": "oL9SSr1bkgjC",
    "outputId": "88960da3-a642-4a11-b7fc-fde1ddac8f60"
   },
   "outputs": [
    {
     "name": "stdout",
     "output_type": "stream",
     "text": [
      "Roc score for train: 75.27000000000001%\n",
      "Roc score for test: 74.94%\n"
     ]
    }
   ],
   "source": [
    "xgb_params = {\n",
    "    'eta': 0.1,\n",
    "    'max_depth': 3,\n",
    "    'subsample': 0.8,\n",
    "    'colsample_bytree': 0.6,\n",
    "    'seed': 2018,\n",
    "    'eval_metric': 'merror',\n",
    "    'objective': 'multi:softprob',\n",
    "    'num_class': 2\n",
    "}\n",
    "\n",
    "xgb_after_opt = XGBClassifier(random_state=42, **xgb_params)\n",
    "xgb_after_opt.fit(X_train, y_train)\n",
    "\n",
    "y_proba_train_xgb_opt = xgb_after_opt.predict_proba(X_train)\n",
    "y_proba_test_xgb_opt = xgb_after_opt.predict_proba(X_test)\n",
    "\n",
    "print(f\"Roc score for train: {round(roc_auc_score(y_train, y_proba_train_xgb_opt[:, 1]), 4) * 100}%\")\n",
    "print(f\"Roc score for test: {round(roc_auc_score(y_test, y_proba_test_xgb_opt[:, 1]), 4) * 100}%\")\n",
    "\n",
    "#pd.Series(xgb_after_opt.feature_importances_, index=X_train.columns)[:20].sort_values().plot(kind='barh')\n",
    "#plt.show()"
   ]
  },
  {
   "cell_type": "markdown",
   "metadata": {
    "id": "kU8ER_gLkLjy"
   },
   "source": [
    "* LGBM algorithm"
   ]
  },
  {
   "cell_type": "code",
   "execution_count": 27,
   "metadata": {
    "colab": {
     "base_uri": "https://localhost:8080/"
    },
    "executionInfo": {
     "elapsed": 12520,
     "status": "ok",
     "timestamp": 1696760992219,
     "user": {
      "displayName": "Khalid Sabban",
      "userId": "16241140934454102127"
     },
     "user_tz": -60
    },
    "id": "DO5WolHxttH4",
    "outputId": "c734b753-48a2-44ec-fe49-ff1a158bfd8b"
   },
   "outputs": [
    {
     "name": "stdout",
     "output_type": "stream",
     "text": [
      "[LightGBM] [Info] Number of positive: 1493, number of negative: 12828\n",
      "[LightGBM] [Info] Auto-choosing row-wise multi-threading, the overhead of testing was 0.004467 seconds.\n",
      "You can set `force_row_wise=true` to remove the overhead.\n",
      "And if memory is not enough, you can set `force_col_wise=true`.\n",
      "[LightGBM] [Info] Total Bins 13474\n",
      "[LightGBM] [Info] Number of data points in the train set: 14321, number of used features: 182\n",
      "[LightGBM] [Info] [binary:BoostFromScore]: pavg=0.104252 -> initscore=-2.150843\n",
      "[LightGBM] [Info] Start training from score -2.150843\n",
      "\n",
      "\n",
      "Roc score for train: 99.15%\n",
      "Roc score for test: 74.24%\n"
     ]
    }
   ],
   "source": [
    "lgb_clf = LGBMClassifier(objective='binary', random_state=42)\n",
    "# Replace spaces with underscores and remove non-alphanumeric characters\n",
    "X_train.columns = [\"\".join(c if c.isalnum() else \"_\" for c in str(col)) for col in X_train.columns]\n",
    "lgb_clf.fit(X_train, y_train)\n",
    "y_pred_lgb = lgb_clf.predict(X_test)\n",
    "\n",
    "y_proba_train_lgb = lgb_clf.predict_proba(X_train)\n",
    "y_proba_test_lgb = lgb_clf.predict_proba(X_test)\n",
    "\n",
    "print('\\n')\n",
    "print(f\"Roc score for train: {round(roc_auc_score(y_train, y_proba_train_lgb[:,1]),4)*100}%\")\n",
    "print(f\"Roc score for test: {round(roc_auc_score(y_test, y_proba_test_lgb[:,1]),4)*100}%\")\n",
    "#pd.Series(lgb_clf.feature_importances_, index=X_train.columns)[:20].sort_values().plot(kind='barh');"
   ]
  },
  {
   "cell_type": "code",
   "execution_count": 17,
   "metadata": {
    "colab": {
     "base_uri": "https://localhost:8080/"
    },
    "executionInfo": {
     "elapsed": 730,
     "status": "ok",
     "timestamp": 1696761206014,
     "user": {
      "displayName": "Khalid Sabban",
      "userId": "16241140934454102127"
     },
     "user_tz": -60
    },
    "id": "XpuIjx5Okf0r",
    "outputId": "84c16166-7e46-4717-c02a-f97d6ec4c68c"
   },
   "outputs": [
    {
     "name": "stdout",
     "output_type": "stream",
     "text": [
      "+---------------+---------------------+--------------------+\n",
      "| Algorithm     |   Roc Train Score % |   Roc Test Score % |\n",
      "+===============+=====================+====================+\n",
      "| Random forest |              100    |              72.29 |\n",
      "+---------------+---------------------+--------------------+\n",
      "| XGBoost       |               73.18 |              72.47 |\n",
      "+---------------+---------------------+--------------------+\n",
      "| LGBM          |               79.25 |              75.38 |\n",
      "+---------------+---------------------+--------------------+\n"
     ]
    }
   ],
   "source": [
    "# Calculate the scores\n",
    "random_forest_train_score = round(roc_auc_score(y_train, y_proba_train_rf[:, 1]), 4) * 100\n",
    "random_forest_test_score = round(roc_auc_score(y_test, y_proba_test_rf[:, 1]), 4) * 100\n",
    "xgboost_train_score = round(roc_auc_score(y_train, y_proba_train_xgb[:, 1]), 4) * 100\n",
    "xgboost_test_score = round(roc_auc_score(y_test, y_proba_test_xgb[:, 1]), 4) * 100\n",
    "lgbm_train_score = round(roc_auc_score(y_train, y_proba_train_lgb[:, 1]), 4) * 100\n",
    "lgbm_test_score = round(roc_auc_score(y_test, y_proba_test_lgb[:, 1]), 4) * 100\n",
    "\n",
    "# Data for the table\n",
    "table_data = [\n",
    "    [\"Random forest\", random_forest_train_score, random_forest_test_score],\n",
    "    [\"XGBoost\", xgboost_train_score, xgboost_test_score],\n",
    "    [\"LGBM\", lgbm_train_score, lgbm_test_score]\n",
    "]\n",
    "\n",
    "# Table headers\n",
    "headers = [\"Algorithm\", \"Roc Train Score %\", \"Roc Test Score %\"]\n",
    "\n",
    "print(tabulate(table_data, headers, tablefmt=\"grid\"))"
   ]
  },
  {
   "cell_type": "markdown",
   "metadata": {
    "id": "aXR_1GqKIahh"
   },
   "source": [
    "### All datasets"
   ]
  },
  {
   "cell_type": "markdown",
   "metadata": {
    "id": "qr9e7B41kjq6"
   },
   "source": [
    "* Prepare data"
   ]
  },
  {
   "cell_type": "code",
   "execution_count": 19,
   "metadata": {
    "executionInfo": {
     "elapsed": 306,
     "status": "ok",
     "timestamp": 1696761229816,
     "user": {
      "displayName": "Khalid Sabban",
      "userId": "16241140934454102127"
     },
     "user_tz": -60
    },
    "id": "4yupnCIlv2es"
   },
   "outputs": [],
   "source": [
    "all_df = pd.read_csv('../data/cleanedData/all_df.csv')\n",
    "\n",
    "X = all_df.drop(['SK_ID_CURR','TARGET'], axis=1)\n",
    "y = all_df['TARGET']\n",
    "\n",
    "X_train, X_test, y_train, y_test = train_test_split(X, y, test_size = 0.2, stratify = y, random_state = 42)"
   ]
  },
  {
   "cell_type": "markdown",
   "metadata": {
    "id": "-f-bazrvklGW"
   },
   "source": [
    "* Random forest algorithm"
   ]
  },
  {
   "cell_type": "code",
   "execution_count": 20,
   "metadata": {
    "colab": {
     "base_uri": "https://localhost:8080/"
    },
    "executionInfo": {
     "elapsed": 15774,
     "status": "ok",
     "timestamp": 1696761329602,
     "user": {
      "displayName": "Khalid Sabban",
      "userId": "16241140934454102127"
     },
     "user_tz": -60
    },
    "id": "4WnEvqP6I30h",
    "outputId": "e9f66edb-d7d4-440a-cb34-fd77156d4f8a"
   },
   "outputs": [
    {
     "name": "stdout",
     "output_type": "stream",
     "text": [
      "Roc score for train: 100.0%\n",
      "Roc score for test: 72.02%\n"
     ]
    }
   ],
   "source": [
    "forest = RandomForestClassifier(class_weight='balanced', random_state=42)\n",
    "forest.fit(X_train, y_train)\n",
    "y_pred_rf = forest.predict(X_test)\n",
    "\n",
    "y_proba_train_rf = forest.predict_proba(X_train)\n",
    "y_proba_test_rf = forest.predict_proba(X_test)\n",
    "\n",
    "print(f\"Roc score for train: {round(roc_auc_score(y_train, y_proba_train_rf[:,1]),4)*100}%\")\n",
    "print(f\"Roc score for test: {round(roc_auc_score(y_test, y_proba_test_rf[:,1]),4)*100}%\")\n",
    "#pd.Series(forest.feature_importances_, index=X_train.columns)[:20].sort_values().plot(kind='barh');"
   ]
  },
  {
   "cell_type": "markdown",
   "metadata": {
    "id": "pmxMBiuTkn2y"
   },
   "source": [
    "* XGBoost algorithm"
   ]
  },
  {
   "cell_type": "code",
   "execution_count": 21,
   "metadata": {
    "colab": {
     "base_uri": "https://localhost:8080/"
    },
    "executionInfo": {
     "elapsed": 3072,
     "status": "ok",
     "timestamp": 1696761333197,
     "user": {
      "displayName": "Khalid Sabban",
      "userId": "16241140934454102127"
     },
     "user_tz": -60
    },
    "id": "m-XNa9lAOxQE",
    "outputId": "70775b71-4722-46c2-ae94-0c5c37ac2d08"
   },
   "outputs": [
    {
     "name": "stdout",
     "output_type": "stream",
     "text": [
      "Roc score for train: 75.53%\n",
      "Roc score for test: 69.87%\n"
     ]
    }
   ],
   "source": [
    "xgb = XGBClassifier(n_estimators=2, random_state=42)\n",
    "xgb.fit(X_train, y_train)\n",
    "y_pred_xgb = xgb.predict(X_test)\n",
    "\n",
    "y_proba_train_xgb = xgb.predict_proba(X_train)\n",
    "y_proba_test_xgb = xgb.predict_proba(X_test)\n",
    "\n",
    "print(f\"Roc score for train: {round(roc_auc_score(y_train, y_proba_train_xgb[:,1]),4)*100}%\")\n",
    "print(f\"Roc score for test: {round(roc_auc_score(y_test, y_proba_test_xgb[:,1]),4)*100}%\")\n",
    "#pd.Series(xgb.feature_importances_, index=X_train.columns)[:20].sort_values().plot(kind='barh');"
   ]
  },
  {
   "cell_type": "markdown",
   "metadata": {
    "id": "6KCV2_yilCFk"
   },
   "source": [
    "* Optimization (XGBoost)"
   ]
  },
  {
   "cell_type": "code",
   "execution_count": null,
   "metadata": {
    "colab": {
     "base_uri": "https://localhost:8080/"
    },
    "executionInfo": {
     "elapsed": 12336,
     "status": "ok",
     "timestamp": 1696692461581,
     "user": {
      "displayName": "Khalid Sabban",
      "userId": "16241140934454102127"
     },
     "user_tz": -60
    },
    "id": "FkCtCAYvO4S-",
    "outputId": "0d096330-ddac-43b3-c734-d95974a1c4c7"
   },
   "outputs": [
    {
     "name": "stdout",
     "output_type": "stream",
     "text": [
      "0.7727788665993742\n",
      "0.745416953594566\n",
      "\n",
      "0.8268888008920539\n",
      "0.7516321461761146\n",
      "\n",
      "0.8932810552769802\n",
      "0.7504822060131174\n",
      "\n",
      "0.9539035559562753\n",
      "0.746567729469891\n",
      "\n"
     ]
    }
   ],
   "source": [
    "xgb_params = {\n",
    "    'eta': 0.1,\n",
    "    'subsample': 0.8,\n",
    "    'colsample_bytree': 0.6,\n",
    "    'seed': 2018,\n",
    "    'eval_metric': 'merror',\n",
    "    'objective': 'multi:softprob',\n",
    "    'num_class': 2\n",
    "}\n",
    "\n",
    "max_depths = [2, 3, 4, 5]\n",
    "\n",
    "for depth in max_depths:\n",
    "    xgb_opt = XGBClassifier(max_depth=depth, **xgb_params)\n",
    "    xgb_opt.fit(X_train, y_train)\n",
    "\n",
    "    y_proba_train = xgb_opt.predict_proba(X_train)\n",
    "    y_proba_test = xgb_opt.predict_proba(X_test)\n",
    "\n",
    "    print(roc_auc_score(y_train, y_proba_train[:,1]))\n",
    "    print(roc_auc_score(y_test, y_proba_test[:,1]))\n",
    "    print()\n"
   ]
  },
  {
   "cell_type": "code",
   "execution_count": null,
   "metadata": {
    "colab": {
     "base_uri": "https://localhost:8080/"
    },
    "executionInfo": {
     "elapsed": 8714,
     "status": "ok",
     "timestamp": 1696692470280,
     "user": {
      "displayName": "Khalid Sabban",
      "userId": "16241140934454102127"
     },
     "user_tz": -60
    },
    "id": "ZXPDKFrePB-6",
    "outputId": "eab9e435-8fe2-4c8f-b3a0-c1d6b5ff343f"
   },
   "outputs": [
    {
     "name": "stdout",
     "output_type": "stream",
     "text": [
      "0.8725430503977506\n",
      "0.7520809236961216\n",
      "\n",
      "0.8932810552769802\n",
      "0.7504822060131174\n",
      "\n",
      "0.9099287737327777\n",
      "0.7513154112038938\n",
      "\n"
     ]
    }
   ],
   "source": [
    "xgb_params = {\n",
    "    'max_depth': 4,\n",
    "    'subsample': 0.8,\n",
    "    'colsample_bytree': 0.6,\n",
    "    'seed': 2018,\n",
    "    'eval_metric': 'merror',\n",
    "    'objective': 'multi:softprob',\n",
    "    'num_class': 2\n",
    "}\n",
    "etas = [0.08, 0.1, 0.12]\n",
    "\n",
    "for eta in etas:\n",
    "    xgb_opt = XGBClassifier(eta = eta, **xgb_params)\n",
    "    xgb_opt.fit(X_train, y_train)\n",
    "\n",
    "    y_proba_train = xgb_opt.predict_proba(X_train)\n",
    "    y_proba_test = xgb_opt.predict_proba(X_test)\n",
    "\n",
    "    print(roc_auc_score(y_train, y_proba_train[:,1]))\n",
    "    print(roc_auc_score(y_test, y_proba_test[:,1]))\n",
    "    print()\n"
   ]
  },
  {
   "cell_type": "code",
   "execution_count": 22,
   "metadata": {
    "colab": {
     "base_uri": "https://localhost:8080/"
    },
    "executionInfo": {
     "elapsed": 3075,
     "status": "ok",
     "timestamp": 1696761529597,
     "user": {
      "displayName": "Khalid Sabban",
      "userId": "16241140934454102127"
     },
     "user_tz": -60
    },
    "id": "popfglgAPFKb",
    "outputId": "c206c016-2c04-495a-f899-ccdbd8743afe"
   },
   "outputs": [
    {
     "name": "stdout",
     "output_type": "stream",
     "text": [
      "Roc score for train: 83.02000000000001%\n",
      "Roc score for test: 75.79%\n"
     ]
    }
   ],
   "source": [
    "xgb_params = {\n",
    "    'eta': 0.1,\n",
    "    'max_depth': 3,\n",
    "    'subsample': 0.8,\n",
    "    'colsample_bytree': 0.6,\n",
    "    'seed': 2018,\n",
    "    'eval_metric': 'merror',\n",
    "    'objective': 'multi:softprob',\n",
    "    'num_class': 2\n",
    "}\n",
    "\n",
    "xgb_after_opt = XGBClassifier(random_state=42, **xgb_params)\n",
    "xgb_after_opt.fit(X_train, y_train)\n",
    "\n",
    "y_proba_train_xgb_opt = xgb_after_opt.predict_proba(X_train)\n",
    "y_proba_test_xgb_opt = xgb_after_opt.predict_proba(X_test)\n",
    "\n",
    "print(f\"Roc score for train: {round(roc_auc_score(y_train, y_proba_train_xgb_opt[:, 1]), 4) * 100}%\")\n",
    "print(f\"Roc score for test: {round(roc_auc_score(y_test, y_proba_test_xgb_opt[:, 1]), 4) * 100}%\")\n",
    "\n",
    "#pd.Series(xgb_after_opt.feature_importances_, index=X_train.columns)[:20].sort_values().plot(kind='barh')\n",
    "#plt.show()"
   ]
  },
  {
   "cell_type": "markdown",
   "metadata": {
    "id": "nEPhUCDJlJue"
   },
   "source": [
    "* LGBM algorithm"
   ]
  },
  {
   "cell_type": "code",
   "execution_count": 26,
   "metadata": {
    "colab": {
     "base_uri": "https://localhost:8080/"
    },
    "executionInfo": {
     "elapsed": 2556,
     "status": "ok",
     "timestamp": 1696761265600,
     "user": {
      "displayName": "Khalid Sabban",
      "userId": "16241140934454102127"
     },
     "user_tz": -60
    },
    "id": "kI_bU9YUQE-u",
    "outputId": "c65a17e9-0bcf-4654-8bf7-80f007912351"
   },
   "outputs": [
    {
     "name": "stdout",
     "output_type": "stream",
     "text": [
      "[LightGBM] [Info] Number of positive: 1493, number of negative: 12828\n",
      "[LightGBM] [Info] Auto-choosing col-wise multi-threading, the overhead of testing was 0.012957 seconds.\n",
      "You can set `force_col_wise=true` to remove the overhead.\n",
      "[LightGBM] [Info] Total Bins 13474\n",
      "[LightGBM] [Info] Number of data points in the train set: 14321, number of used features: 182\n",
      "[LightGBM] [Info] [binary:BoostFromScore]: pavg=0.104252 -> initscore=-2.150843\n",
      "[LightGBM] [Info] Start training from score -2.150843\n",
      "\n",
      "\n",
      "Roc score for train: 99.15%\n",
      "Roc score for test: 74.24%\n"
     ]
    }
   ],
   "source": [
    "lgb_clf = LGBMClassifier(objective='binary', random_state=42)\n",
    "X_train.columns = [\"\".join(c if c.isalnum() else \"_\" for c in str(col)) for col in X_train.columns]\n",
    "lgb_clf.fit(X_train, y_train)\n",
    "y_pred_lgb = lgb_clf.predict(X_test)\n",
    "\n",
    "y_proba_train_lgb = lgb_clf.predict_proba(X_train)\n",
    "y_proba_test_lgb = lgb_clf.predict_proba(X_test)\n",
    "\n",
    "print('\\n')\n",
    "print(f\"Roc score for train: {round(roc_auc_score(y_train, y_proba_train_lgb[:,1]),4)*100}%\")\n",
    "print(f\"Roc score for test: {round(roc_auc_score(y_test, y_proba_test_lgb[:,1]),4)*100}%\")\n",
    "#pd.Series(lgb_clf.feature_importances_, index=X_train.columns)[:20].sort_values().plot(kind='barh');"
   ]
  },
  {
   "cell_type": "code",
   "execution_count": 25,
   "metadata": {
    "colab": {
     "base_uri": "https://localhost:8080/"
    },
    "executionInfo": {
     "elapsed": 4,
     "status": "ok",
     "timestamp": 1696761562520,
     "user": {
      "displayName": "Khalid Sabban",
      "userId": "16241140934454102127"
     },
     "user_tz": -60
    },
    "id": "IOupxVs8xlNl",
    "outputId": "eb98c24a-cee6-464f-ae74-f962f8c8a056"
   },
   "outputs": [
    {
     "name": "stdout",
     "output_type": "stream",
     "text": [
      "+---------------+---------------------+--------------------+\n",
      "| Algorithm     |   Roc Train Score % |   Roc Test Score % |\n",
      "+===============+=====================+====================+\n",
      "| Random forest |              100    |              72.02 |\n",
      "+---------------+---------------------+--------------------+\n",
      "| XGBoost       |               83.02 |              75.79 |\n",
      "+---------------+---------------------+--------------------+\n",
      "| LGBM          |               99.15 |              74.24 |\n",
      "+---------------+---------------------+--------------------+\n"
     ]
    }
   ],
   "source": [
    "random_forest_train_score = round(roc_auc_score(y_train, y_proba_train_rf[:, 1]), 4) * 100\n",
    "random_forest_test_score = round(roc_auc_score(y_test, y_proba_test_rf[:, 1]), 4) * 100\n",
    "xgboost_train_score = round(roc_auc_score(y_train, y_proba_train_xgb_opt[:, 1]), 4) * 100\n",
    "xgboost_test_score = round(roc_auc_score(y_test, y_proba_test_xgb_opt[:, 1]), 4) * 100\n",
    "lgbm_train_score = round(roc_auc_score(y_train, y_proba_train_lgb[:, 1]), 4) * 100\n",
    "lgbm_test_score = round(roc_auc_score(y_test, y_proba_test_lgb[:, 1]), 4) * 100\n",
    "\n",
    "table_data = [\n",
    "    [\"Random forest\", random_forest_train_score, random_forest_test_score],\n",
    "    [\"XGBoost\", xgboost_train_score, xgboost_test_score],\n",
    "    [\"LGBM\", lgbm_train_score, lgbm_test_score]\n",
    "]\n",
    "\n",
    "headers = [\"Algorithm\", \"Roc Train Score %\", \"Roc Test Score %\"]\n",
    "\n",
    "print(tabulate(table_data, headers, tablefmt=\"grid\"))"
   ]
  },
  {
   "cell_type": "code",
   "execution_count": null,
   "metadata": {
    "id": "DEaBBCQn3E5p"
   },
   "outputs": [],
   "source": []
  }
 ],
 "metadata": {
  "colab": {
   "authorship_tag": "ABX9TyOfndzKl8etyZ3WA7LYTHA5",
   "collapsed_sections": [
    "GlqVfoaoX3Fh",
    "lFaqYUKmaHOD",
    "ZMmzDAHtXGp3",
    "iPIWsoq_ahjT",
    "X3PC6dQwhD_7",
    "M1K6-GTJkXLH",
    "FoevZV8_Fk3E",
    "wyxjbGpHJCLD"
   ],
   "provenance": []
  },
  "kernelspec": {
   "display_name": "Python 3 (ipykernel)",
   "language": "python",
   "name": "python3"
  },
  "language_info": {
   "codemirror_mode": {
    "name": "ipython",
    "version": 3
   },
   "file_extension": ".py",
   "mimetype": "text/x-python",
   "name": "python",
   "nbconvert_exporter": "python",
   "pygments_lexer": "ipython3",
   "version": "3.11.4"
  }
 },
 "nbformat": 4,
 "nbformat_minor": 1
}
